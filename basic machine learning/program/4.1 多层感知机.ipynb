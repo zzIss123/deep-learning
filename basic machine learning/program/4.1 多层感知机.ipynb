{
 "cells": [
  {
   "cell_type": "code",
   "execution_count": 1,
   "metadata": {},
   "outputs": [],
   "source": [
    "import torch \n",
    "from torch import nn \n",
    "from d2l import torch as d2l \n"
   ]
  },
  {
   "cell_type": "code",
   "execution_count": 6,
   "metadata": {},
   "outputs": [],
   "source": [
    "batch_size = 256 \n",
    "train_iter,test_iter = d2l.load_data_fashion_mnist(batch_size)\n"
   ]
  },
  {
   "cell_type": "code",
   "execution_count": null,
   "metadata": {},
   "outputs": [],
   "source": [
    "#初始化\n"
   ]
  }
 ],
 "metadata": {
  "kernelspec": {
   "display_name": "zzIss",
   "language": "python",
   "name": "python3"
  },
  "language_info": {
   "codemirror_mode": {
    "name": "ipython",
    "version": 3
   },
   "file_extension": ".py",
   "mimetype": "text/x-python",
   "name": "python",
   "nbconvert_exporter": "python",
   "pygments_lexer": "ipython3",
   "version": "3.9.16"
  },
  "orig_nbformat": 4,
  "vscode": {
   "interpreter": {
    "hash": "7dfbf5e764e57f7889d325f0736f1b62753f264677d0a0921a89cba7e0106975"
   }
  }
 },
 "nbformat": 4,
 "nbformat_minor": 2
}
