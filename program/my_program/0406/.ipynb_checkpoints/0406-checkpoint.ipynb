{
 "cells": [
  {
   "cell_type": "code",
   "execution_count": 1,
   "id": "23beea4e",
   "metadata": {
    "ExecuteTime": {
     "end_time": "2023-04-06T11:13:40.921941Z",
     "start_time": "2023-04-06T11:13:38.093799Z"
    }
   },
   "outputs": [],
   "source": [
    "%matplotlib inline\n",
    "import math\n",
    "import torch\n",
    "from torch import nn\n",
    "from torch.nn import functional as F\n",
    "from d2l import torch as d2l"
   ]
  },
  {
   "cell_type": "code",
   "execution_count": 2,
   "id": "0f47af49",
   "metadata": {
    "ExecuteTime": {
     "end_time": "2023-04-06T11:13:47.543359Z",
     "start_time": "2023-04-06T11:13:47.442186Z"
    }
   },
   "outputs": [],
   "source": [
    "batch_size, num_steps = 32, 35\n",
    "train_iter, vocab = d2l.load_data_time_machine(batch_size, num_steps)"
   ]
  },
  {
   "cell_type": "code",
   "execution_count": 3,
   "id": "541ee06e",
   "metadata": {
    "ExecuteTime": {
     "end_time": "2023-04-06T11:25:59.764492Z",
     "start_time": "2023-04-06T11:25:59.759530Z"
    }
   },
   "outputs": [],
   "source": [
    "def get_params(vocab_size,num_hiddens,device):\n",
    "    num_inputs = num_outputs = vocab_size\n",
    "    \n",
    "    def normal(shape):\n",
    "        return torch.rand(size=shape,device=device)*0.01\n",
    "    \n",
    "    W_xh = normal((num_inputs,num_hiddens))\n",
    "    W_hh = normal((num_hiddens,num_hiddens))\n",
    "    b_h = torch.zeros(num_hiddens,device=device)\n",
    "    \n",
    "    W_hq = normal((num_hiddens,num_outputs))\n",
    "    b_q = torch.zeros(num_outputs,device=device)\n",
    "    \n",
    "    #梯度\n",
    "    params = [W_xh,W_hh,b_h,W_hq,b_q]\n",
    "    for param in params:\n",
    "        param.requires_grad_(True)\n",
    "    return params"
   ]
  },
  {
   "cell_type": "code",
   "execution_count": 4,
   "id": "5b305d53",
   "metadata": {
    "ExecuteTime": {
     "end_time": "2023-04-06T11:28:57.224608Z",
     "start_time": "2023-04-06T11:28:57.220500Z"
    }
   },
   "outputs": [],
   "source": [
    "def init_rnn_state(batch_size,num_hiddens,device):\n",
    "    return (torch.zeros((batch_size,num_hiddens),device=device),)"
   ]
  },
  {
   "cell_type": "code",
   "execution_count": 5,
   "id": "fe404839",
   "metadata": {
    "ExecuteTime": {
     "end_time": "2023-04-06T11:32:47.842960Z",
     "start_time": "2023-04-06T11:32:47.835981Z"
    }
   },
   "outputs": [],
   "source": [
    "def rnn(inputs,state,params):\n",
    "    W_xh,W_hh,b_h,W_hq,b_q = params\n",
    "    H, = state\n",
    "    outputs = []\n",
    "    for X in inputs:\n",
    "        H = torch.tanh(torch.mm(X,W_xh)+torch.mm(H,W_hh)+h_h)\n",
    "        Y = torch.mm(H,W_hq) + b_q\n",
    "        outputs.append(Y)\n",
    "    return torch.cat(outputs,dim=0),(H,)"
   ]
  },
  {
   "cell_type": "code",
   "execution_count": null,
   "id": "39332c80",
   "metadata": {},
   "outputs": [],
   "source": [
    "class RNNModelScratch:\n",
    "    def __init__(self,)"
   ]
  }
 ],
 "metadata": {
  "kernelspec": {
   "display_name": "Python 3 (ipykernel)",
   "language": "python",
   "name": "python3"
  },
  "language_info": {
   "codemirror_mode": {
    "name": "ipython",
    "version": 3
   },
   "file_extension": ".py",
   "mimetype": "text/x-python",
   "name": "python",
   "nbconvert_exporter": "python",
   "pygments_lexer": "ipython3",
   "version": "3.9.13"
  }
 },
 "nbformat": 4,
 "nbformat_minor": 5
}
