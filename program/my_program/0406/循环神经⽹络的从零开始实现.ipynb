{
 "cells": [
  {
   "cell_type": "code",
   "execution_count": 10,
   "id": "f36c7082",
   "metadata": {
    "ExecuteTime": {
     "end_time": "2023-04-07T05:21:55.151238Z",
     "start_time": "2023-04-07T05:21:55.070001Z"
    }
   },
   "outputs": [],
   "source": [
    "%matplotlib inline\n",
    "import math\n",
    "import torch\n",
    "from torch import nn\n",
    "from torch.nn import functional as F\n",
    "from d2l import torch as d2l\n",
    "\n",
    "batch_size, num_steps = 32, 35\n",
    "train_iter, vocab = d2l.load_data_time_machine(batch_size, num_steps)"
   ]
  },
  {
   "cell_type": "code",
   "execution_count": 11,
   "id": "496e7faa",
   "metadata": {
    "ExecuteTime": {
     "end_time": "2023-04-07T05:21:55.243924Z",
     "start_time": "2023-04-07T05:21:55.232962Z"
    }
   },
   "outputs": [
    {
     "name": "stdout",
     "output_type": "stream",
     "text": [
      "torch.Size([32, 35]) \n",
      " tensor([[ 2,  1, 21,  ..., 10,  1, 16],\n",
      "        [12,  2,  8,  ..., 10,  1, 18],\n",
      "        [ 2, 16,  5,  ..., 10,  2, 11],\n",
      "        ...,\n",
      "        [ 1,  9,  4,  ...,  2,  1,  9],\n",
      "        [14, 21,  8,  ..., 15,  5,  3],\n",
      "        [ 6,  1,  9,  ...,  6,  1,  3]])\n"
     ]
    }
   ],
   "source": [
    "for x,y in train_iter:\n",
    "    print(x.shape,'\\n',y)\n",
    "    break"
   ]
  },
  {
   "cell_type": "code",
   "execution_count": 17,
   "id": "50f065d3",
   "metadata": {
    "ExecuteTime": {
     "end_time": "2023-04-07T05:28:19.920553Z",
     "start_time": "2023-04-07T05:28:19.914575Z"
    }
   },
   "outputs": [
    {
     "data": {
      "text/plain": [
       "(tensor([[0, 1, 2, 3, 4],\n",
       "         [5, 6, 7, 8, 9]]),\n",
       " tensor([[0, 5],\n",
       "         [1, 6],\n",
       "         [2, 7],\n",
       "         [3, 8],\n",
       "         [4, 9]]))"
      ]
     },
     "execution_count": 17,
     "metadata": {},
     "output_type": "execute_result"
    }
   ],
   "source": [
    "X = torch.arange(10).reshape((2, 5))\n",
    "X,X.T"
   ]
  }
 ],
 "metadata": {
  "kernelspec": {
   "display_name": "Python 3 (ipykernel)",
   "language": "python",
   "name": "python3"
  },
  "language_info": {
   "codemirror_mode": {
    "name": "ipython",
    "version": 3
   },
   "file_extension": ".py",
   "mimetype": "text/x-python",
   "name": "python",
   "nbconvert_exporter": "python",
   "pygments_lexer": "ipython3",
   "version": "3.9.13"
  }
 },
 "nbformat": 4,
 "nbformat_minor": 5
}
