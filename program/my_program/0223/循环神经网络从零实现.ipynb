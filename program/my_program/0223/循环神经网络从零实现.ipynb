{
 "cells": [
  {
   "cell_type": "code",
   "execution_count": null,
   "metadata": {},
   "outputs": [],
   "source": []
  }
 ],
 "metadata": {
  "kernelspec": {
   "display_name": "zzIss",
   "language": "python",
   "name": "python3"
  },
  "language_info": {
   "name": "python",
   "version": "3.9.16"
  },
  "orig_nbformat": 4,
  "vscode": {
   "interpreter": {
    "hash": "7dfbf5e764e57f7889d325f0736f1b62753f264677d0a0921a89cba7e0106975"
   }
  }
 },
 "nbformat": 4,
 "nbformat_minor": 2
}
