{
 "cells": [
  {
   "cell_type": "markdown",
   "id": "cb5b2db9",
   "metadata": {},
   "source": [
    "##### 线性假设是指目标（房屋价格）可以表示为特征（面积和房龄）的加权和"
   ]
  },
  {
   "cell_type": "code",
   "execution_count": null,
   "id": "7d61cfd0",
   "metadata": {},
   "outputs": [],
   "source": []
  }
 ],
 "metadata": {
  "kernelspec": {
   "display_name": "Python 3 (ipykernel)",
   "language": "python",
   "name": "python3"
  },
  "language_info": {
   "codemirror_mode": {
    "name": "ipython",
    "version": 3
   },
   "file_extension": ".py",
   "mimetype": "text/x-python",
   "name": "python",
   "nbconvert_exporter": "python",
   "pygments_lexer": "ipython3",
   "version": "3.9.12"
  }
 },
 "nbformat": 4,
 "nbformat_minor": 5
}
