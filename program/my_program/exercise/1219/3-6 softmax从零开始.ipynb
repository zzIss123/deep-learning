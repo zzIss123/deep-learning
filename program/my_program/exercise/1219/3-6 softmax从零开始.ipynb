{
 "cells": [
  {
   "cell_type": "code",
   "execution_count": 3,
   "id": "d277eb8d",
   "metadata": {},
   "outputs": [],
   "source": [
    "import torch \n",
    "from IPython import display \n",
    "from d2l import torch as d2l \n",
    "\n",
    "batch_size = 256 \n",
    "train_iter, test_iter = d2l.load_data_fashion_mnist(batch_size)\n"
   ]
  },
  {
   "cell_type": "code",
   "execution_count": 8,
   "id": "3cfc5ed9",
   "metadata": {},
   "outputs": [],
   "source": [
    "num_inputs = 784\n",
    "num_optputs = 10 \n",
    "\n",
    "w = torch.normal(0,0.01,size=(num_inputs,num_optputs),requires_grad=True)\n",
    "b = torch.zeros(num_optputs,requires_grad=True)"
   ]
  }
 ],
 "metadata": {
  "kernelspec": {
   "display_name": "Python 3 (ipykernel)",
   "language": "python",
   "name": "python3"
  },
  "language_info": {
   "codemirror_mode": {
    "name": "ipython",
    "version": 3
   },
   "file_extension": ".py",
   "mimetype": "text/x-python",
   "name": "python",
   "nbconvert_exporter": "python",
   "pygments_lexer": "ipython3",
   "version": "3.9.12"
  }
 },
 "nbformat": 4,
 "nbformat_minor": 5
}
